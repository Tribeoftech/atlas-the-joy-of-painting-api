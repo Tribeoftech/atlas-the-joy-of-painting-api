{
 "cells": [
  {
   "cell_type": "markdown",
   "metadata": {},
   "source": [
    "# ETL\n",
    "\n",
    "## Extract"
   ]
  },
  {
   "cell_type": "code",
   "execution_count": 19,
   "metadata": {},
   "outputs": [],
   "source": [
    "import pandas as pd\n",
    "\n",
    "# Create dataframes\n",
    "subject_df = pd.read_csv('../resources/subject.txt', sep=',')\n",
    "colors_df = pd.read_csv('../resources/colors.txt', sep=',')\n",
    "dates_df = pd.read_csv('../resources/modified_dates.txt', sep=',', names=['title', 'date', 'other'])"
   ]
  },
  {
   "cell_type": "markdown",
   "metadata": {},
   "source": [
    "## Transform"
   ]
  },
  {
   "cell_type": "code",
   "execution_count": 20,
   "metadata": {},
   "outputs": [
    {
     "data": {
      "text/html": [
       "<div>\n",
       "<style scoped>\n",
       "    .dataframe tbody tr th:only-of-type {\n",
       "        vertical-align: middle;\n",
       "    }\n",
       "\n",
       "    .dataframe tbody tr th {\n",
       "        vertical-align: top;\n",
       "    }\n",
       "\n",
       "    .dataframe thead th {\n",
       "        text-align: right;\n",
       "    }\n",
       "</style>\n",
       "<table border=\"1\" class=\"dataframe\">\n",
       "  <thead>\n",
       "    <tr style=\"text-align: right;\">\n",
       "      <th></th>\n",
       "      <th>subject_list</th>\n",
       "      <th>id</th>\n",
       "    </tr>\n",
       "  </thead>\n",
       "  <tbody>\n",
       "    <tr>\n",
       "      <th>0</th>\n",
       "      <td>bushes, deciduous, grass, river, tree, trees</td>\n",
       "      <td>0</td>\n",
       "    </tr>\n",
       "    <tr>\n",
       "      <th>1</th>\n",
       "      <td>cabin, clouds, conifer, mountain, snow, snowy_...</td>\n",
       "      <td>1</td>\n",
       "    </tr>\n",
       "  </tbody>\n",
       "</table>\n",
       "</div>"
      ],
      "text/plain": [
       "                                        subject_list  id\n",
       "0       bushes, deciduous, grass, river, tree, trees   0\n",
       "1  cabin, clouds, conifer, mountain, snow, snowy_...   1"
      ]
     },
     "execution_count": 20,
     "metadata": {},
     "output_type": "execute_result"
    }
   ],
   "source": [
    "# Delete unnecessary columns\n",
    "subject_df = subject_df.drop(['EPISODE', 'TITLE', 'GUEST', 'DIANE_ANDRE', 'STEVE_ROSS'], axis=1)\n",
    "subject_df.drop(list(subject_df.filter(regex = 'FRAME')), axis = 1, inplace = True)\n",
    "\n",
    "# Create list of all subjects (in columns 2 onwards)\n",
    "cols = subject_df.columns.tolist()[1:]\n",
    "# If any subject column doesn't include any paintings, delete it\n",
    "for col in cols:\n",
    "\tif (subject_df[col].mean() == 0):\n",
    "\t\tsubject_df = subject_df.drop(col, axis=1)\n",
    "\n",
    "# Lowercase all data in columns\n",
    "subject_df.columns = subject_df.columns.str.lower()\n",
    "\n",
    "# For each row, add column name to list if value is 1\n",
    "def get_subjects(row):\n",
    "\tcols = []\n",
    "\tfor col in row.index:\n",
    "\t\tif row[col] == 1:\n",
    "\t\t\tcols.append(col)\n",
    "\treturn cols\n",
    "\n",
    "# Create new column for each row based of get_subjects function\n",
    "subject_df['subject_list'] = subject_df.apply(lambda row: get_subjects(row), axis=1)\n",
    "\n",
    "# Convert subject_list column to string\n",
    "subject_df['subject_list'] = subject_df['subject_list'].apply(lambda x: ', '.join(x))\n",
    "\n",
    "# Remove every column except for subject_list\n",
    "subject_df = subject_df.drop(subject_df.columns.difference(['subject_list']), axis=1)\n",
    "\n",
    "# Create same index in all dataframes\n",
    "subject_df['id'] = range(0, len(subject_df))\n",
    "\n",
    "subject_df.head(2)"
   ]
  },
  {
   "cell_type": "code",
   "execution_count": 21,
   "metadata": {},
   "outputs": [
    {
     "data": {
      "text/html": [
       "<div>\n",
       "<style scoped>\n",
       "    .dataframe tbody tr th:only-of-type {\n",
       "        vertical-align: middle;\n",
       "    }\n",
       "\n",
       "    .dataframe tbody tr th {\n",
       "        vertical-align: top;\n",
       "    }\n",
       "\n",
       "    .dataframe thead th {\n",
       "        text-align: right;\n",
       "    }\n",
       "</style>\n",
       "<table border=\"1\" class=\"dataframe\">\n",
       "  <thead>\n",
       "    <tr style=\"text-align: right;\">\n",
       "      <th></th>\n",
       "      <th>color_list</th>\n",
       "      <th>id</th>\n",
       "    </tr>\n",
       "  </thead>\n",
       "  <tbody>\n",
       "    <tr>\n",
       "      <th>0</th>\n",
       "      <td>bright_red, cadmium_yellow, phthalo_green, pru...</td>\n",
       "      <td>0</td>\n",
       "    </tr>\n",
       "    <tr>\n",
       "      <th>1</th>\n",
       "      <td>bright_red, cadmium_yellow, phthalo_green, pru...</td>\n",
       "      <td>1</td>\n",
       "    </tr>\n",
       "  </tbody>\n",
       "</table>\n",
       "</div>"
      ],
      "text/plain": [
       "                                          color_list  id\n",
       "0  bright_red, cadmium_yellow, phthalo_green, pru...   0\n",
       "1  bright_red, cadmium_yellow, phthalo_green, pru...   1"
      ]
     },
     "execution_count": 21,
     "metadata": {},
     "output_type": "execute_result"
    }
   ],
   "source": [
    "# Delete unnecessary columns\n",
    "colors_df.drop(['Unnamed: 0', 'painting_index', 'season', 'episode', 'color_hex', 'colors', 'painting_title', 'img_src', 'youtube_src'], axis=1, inplace=True)\n",
    "\n",
    "# Find list of all possible colors\n",
    "cols = colors_df.columns.tolist()[3:]\n",
    "# Sum number of colors for each painting\n",
    "colors_df['verify_colors'] = colors_df[cols].sum(axis=1)\n",
    "# Verify that calculated number of colors matches given number of colors\n",
    "colors_df.loc[~(colors_df['verify_colors'] == colors_df['num_colors'])]\n",
    "\n",
    "# Since verification passed, delete both columns\n",
    "colors_df.drop(['verify_colors', 'num_colors'], axis=1, inplace=True)\n",
    "\n",
    "# Lowercase all data in columns\n",
    "colors_df.columns = colors_df.columns.str.lower()\n",
    "\n",
    "# For each row, add column name to list if value is 1\n",
    "def get_colors(row):\n",
    "\tcols = []\n",
    "\tfor col in row.index:\n",
    "\t\tif row[col] == 1:\n",
    "\t\t\tcols.append(col)\n",
    "\treturn cols\n",
    "\n",
    "# Create new column for each row based of get_colors function\n",
    "colors_df['color_list'] = colors_df.apply(lambda row: get_colors(row), axis=1)\n",
    "\n",
    "# Convert color_list column to string\n",
    "colors_df['color_list'] = colors_df['color_list'].apply(lambda x: ', '.join(x))\n",
    "\n",
    "# Remove every column except for color_list\n",
    "colors_df = colors_df.drop(colors_df.columns.difference(['color_list']), axis=1)\n",
    "\n",
    "# Create same index in all dataframes\n",
    "colors_df['id'] = range(0, len(colors_df))\n",
    "\n",
    "colors_df.head(2)"
   ]
  },
  {
   "cell_type": "code",
   "execution_count": 22,
   "metadata": {},
   "outputs": [],
   "source": [
    "dates_df.drop(['other'], axis=1, inplace=True)\n",
    "dates_df['id'] = range(0, len(dates_df))\n",
    "\n",
    "# id should be first column\n",
    "dates_df = dates_df[['id', 'title', 'date']]\n",
    "\n",
    "# dates_df.head(2)"
   ]
  },
  {
   "cell_type": "code",
   "execution_count": 23,
   "metadata": {},
   "outputs": [],
   "source": [
    "# Merge dataframes based on ep_id\n",
    "two_df = pd.merge(dates_df, colors_df)\n",
    "three_df = pd.merge(two_df, subject_df)\n",
    "\n",
    "# All column names are lowercse\n",
    "three_df.columns = three_df.columns.str.lower()\n",
    "\n",
    "# three_df.head(2)"
   ]
  },
  {
   "cell_type": "markdown",
   "metadata": {},
   "source": [
    "## Load"
   ]
  },
  {
   "cell_type": "code",
   "execution_count": 24,
   "metadata": {},
   "outputs": [
    {
     "data": {
      "text/plain": [
       "<sqlite3.Cursor at 0x7fe6d18939d0>"
      ]
     },
     "execution_count": 24,
     "metadata": {},
     "output_type": "execute_result"
    }
   ],
   "source": [
    "import sqlite3\n",
    "\n",
    "# Define column types\n",
    "col_list = ['id INTEGER NOT NULL PRIMARY KEY', 'title VARCHAR(50) NOT NULL UNIQUE', 'date VARCHAR(20) NOT NULL UNIQUE', 'color_list BLOB NOT NULL', 'subject_list BLOB NOT NULL']\n",
    "col_list = ','.join(col_list)\n",
    "\n",
    "# If database exists, connect to it - otherwise create it and then connect\n",
    "conn = sqlite3.connect('../happy_lil_trees.db')\n",
    "cursor = conn.cursor()\n",
    "\n",
    "# Create table with column names and values based on col_str\n",
    "cursor.execute('CREATE TABLE IF NOT EXISTS episodes(col_str)')"
   ]
  },
  {
   "cell_type": "code",
   "execution_count": 25,
   "metadata": {},
   "outputs": [],
   "source": [
    "import sqlalchemy\n",
    "\n",
    "# Connect to database\n",
    "engine = sqlalchemy.create_engine('sqlite:///../happy_lil_trees.db')\n",
    "\n",
    "# Convert lists to strings\n",
    "three_df = three_df.applymap(str)\n",
    "\n",
    "# Add data in dataframe to table\n",
    "three_df.to_sql('episodes', engine, if_exists='replace', index=False)"
   ]
  },
  {
   "cell_type": "markdown",
   "metadata": {},
   "source": [
    "## DB Queries"
   ]
  },
  {
   "cell_type": "code",
   "execution_count": 26,
   "metadata": {},
   "outputs": [],
   "source": [
    "# pd.read_sql('episodes', engine)\n",
    "# pd.read_sql('SELECT img_src FROM episodes where apple_frame=1', engine)\n",
    "# pd.read_sql('SELECT title, date, img_src FROM paintings WHERE date LIKE \"%January%\"', engine)"
   ]
  }
 ],
 "metadata": {
  "interpreter": {
   "hash": "31f2aee4e71d21fbe5cf8b01ff0e069b9275f58929596ceb00d14d90e3e16cd6"
  },
  "kernelspec": {
   "display_name": "Python 3.7.5 64-bit",
   "language": "python",
   "name": "python3"
  },
  "language_info": {
   "codemirror_mode": {
    "name": "ipython",
    "version": 3
   },
   "file_extension": ".py",
   "mimetype": "text/x-python",
   "name": "python",
   "nbconvert_exporter": "python",
   "pygments_lexer": "ipython3",
   "version": "3.7.5"
  },
  "orig_nbformat": 4
 },
 "nbformat": 4,
 "nbformat_minor": 2
}
